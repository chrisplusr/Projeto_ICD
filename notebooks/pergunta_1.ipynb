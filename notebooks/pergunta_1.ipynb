{
 "cells": [
  {
   "cell_type": "markdown",
   "metadata": {},
   "source": [
    "#@title\n",
    "# -*- coding: utf8\n",
    "\n",
    "from scipy import stats as ss\n",
    "from numpy.testing import assert_equal\n",
    "\n",
    "import matplotlib.pyplot as plt\n",
    "import numpy as np\n",
    "import pandas as pd\n",
    "import seaborn as sns\n",
    "\n",
    "plt.rcParams['figure.figsize']  = (18, 10)\n",
    "plt.rcParams['axes.labelsize']  = 20\n",
    "plt.rcParams['axes.titlesize']  = 20\n",
    "plt.rcParams['legend.fontsize'] = 20\n",
    "plt.rcParams['xtick.labelsize'] = 20\n",
    "plt.rcParams['ytick.labelsize'] = 20\n",
    "plt.rcParams['lines.linewidth'] = 4\n",
    "\n",
    "plt.style.use('seaborn-colorblind')\n",
    "plt.ion();\n",
    "\n",
    "\n",
    "\n",
    "#@title\n",
    "def despine(ax=None):\n",
    "    if ax is None:\n",
    "        ax = plt.gca()\n",
    "    # Hide the right and top spines\n",
    "    ax.spines['right'].set_visible(False)\n",
    "    ax.spines['top'].set_visible(False)\n",
    "\n",
    "    # Only show ticks on the left and bottom spines\n",
    "    ax.yaxis.set_ticks_position('left')\n",
    "    ax.xaxis.set_ticks_position('bottom')"
   ]
  },
  {
   "cell_type": "code",
   "execution_count": null,
   "metadata": {},
   "outputs": [],
   "source": [
    "lobby_stats = pd.read_csv('../databases/tb_lobby_stats_player.csv')\n",
    "players = pd.read_csv('../databases/tb_players.csv')"
   ]
  },
  {
   "cell_type": "code",
   "execution_count": null,
   "metadata": {},
   "outputs": [],
   "source": [
    "parts = lobby_stats[['qtHitHeadshot', 'qtHitChest', 'qtHitStomach', 'qtHitLeftAtm', 'qtHitRightArm', 'qtHitLeftLeg', 'qtHitRightLeg']].mean()\n",
    "parts.plot.bar()"
   ]
  },
  {
   "cell_type": "code",
   "execution_count": null,
   "metadata": {},
   "outputs": [],
   "source": [
    "maps = lobby_stats.copy()\n",
    "maps['averageDamageRound'] = lobby_stats.vlDamage / lobby_stats.qtRoundsPlayed\n",
    "maps_adr = maps[['idPlayer', 'averageDamageRound']].groupby('idPlayer')['averageDamageRound'].mean().reset_index()\n",
    "\n",
    "model = ss.linregress(maps_adr['idPlayer'], maps_adr['averageDamageRound'])\n",
    "b = model[0]\n",
    "a = model[1]\n",
    "y = maps_adr['idPlayer'] * b + a\n",
    "\n",
    "plt.scatter(maps_adr.idPlayer, maps_adr.averageDamageRound, s=100, edgecolors='k')\n",
    "plt.plot(maps_adr['idPlayer'], y, color='magenta')"
   ]
  },
  {
   "cell_type": "code",
   "execution_count": null,
   "metadata": {},
   "outputs": [],
   "source": [
    "players_stats = lobby_stats[lobby_stats['vlLevel'] >= 0]\n",
    "players_stats = players_stats[['idPlayer', 'qtHits', 'qtHitHeadshot']]\n",
    "players_stats = (players_stats.groupby('idPlayer')[['qtHits', 'qtHitHeadshot']].sum())\n",
    "players_stats['tirosCabeca'] = players_stats.qtHitHeadshot / players_stats.qtHits\n",
    "players_stats = players_stats['tirosCabeca']\n",
    "\n",
    "players_stats = players_stats.reset_index()\n",
    "\n",
    "plt.scatter(players_stats.idPlayer, players_stats.tirosCabeca, s=80, edgecolor='k')\n"
   ]
  },
  {
   "cell_type": "code",
   "execution_count": null,
   "metadata": {},
   "outputs": [],
   "source": [
    "players_stats = lobby_stats[lobby_stats['vlLevel'] >= 0]\n",
    "players_stats = players_stats[['idPlayer', 'qtHits', 'qtShots']]\n",
    "players_stats = (players_stats.groupby('idPlayer')[['qtHits', 'qtShots']].sum())\n",
    "players_stats['precisao'] = players_stats.qtHits / players_stats.qtShots\n",
    "players_stats = players_stats['precisao']\n",
    "\n",
    "players_stats = players_stats.reset_index()\n",
    "\n",
    "plt.scatter(players_stats.idPlayer, players_stats.precisao, s=80, edgecolor='k')"
   ]
  },
  {
   "cell_type": "code",
   "execution_count": null,
   "metadata": {},
   "outputs": [],
   "source": [
    "vitorias = lobby_stats[lobby_stats['flWinner'] == 1]\n",
    "derrotas = lobby_stats[lobby_stats['flWinner'] == 0]\n"
   ]
  },
  {
   "cell_type": "code",
   "execution_count": null,
   "metadata": {},
   "outputs": [],
   "source": [
    "media_bombas_defusadas_vitoria = vitorias.copy()\n",
    "media_bombas_defusadas_vitoria = media_bombas_defusadas_vitoria[['descMapName', 'qtBombeDefuse', 'qtBombePlant']].groupby('descMapName')[['qtBombeDefuse', 'qtBombePlant']].sum()\n",
    "media_bombas_defusadas_vitoria['PercentDefusePerPlant'] = media_bombas_defusadas_vitoria.qtBombeDefuse / media_bombas_defusadas_vitoria.qtBombePlant\n",
    "media_bombas_defusadas_vitoria['PercentDefusePerPlant'].sort_values().plot.bar(edgecolor='k')\n",
    "plt.xlabel('Mapa')\n",
    "plt.ylabel('Probabilidade de bombas defusadas')\n",
    "plt.title('Times vitoriosos')\n",
    "media_bombas_defusadas_vitoria.sort_values('PercentDefusePerPlant')"
   ]
  },
  {
   "cell_type": "code",
   "execution_count": null,
   "metadata": {},
   "outputs": [],
   "source": [
    "media_bombas_defusadas_derrota = derrotas.copy()\n",
    "media_bombas_defusadas_derrota = media_bombas_defusadas_derrota[['descMapName', 'qtBombeDefuse', 'qtBombePlant']].groupby('descMapName')[['qtBombeDefuse', 'qtBombePlant']].sum()\n",
    "media_bombas_defusadas_derrota['PercentDefusePerPlant'] = media_bombas_defusadas_derrota.qtBombeDefuse / media_bombas_defusadas_derrota.qtBombePlant\n",
    "media_bombas_defusadas_derrota['PercentDefusePerPlant'].sort_values().plot.bar(edgecolor='k')\n",
    "plt.xlabel('Mapa')\n",
    "plt.ylabel('Probabilidade de bombas defusadas')\n",
    "plt.title('Times derrotados')\n",
    "media_bombas_defusadas_derrota.sort_values('PercentDefusePerPlant')"
   ]
  },
  {
   "cell_type": "code",
   "execution_count": null,
   "metadata": {},
   "outputs": [],
   "source": []
  }
 ],
 "metadata": {
  "language_info": {
   "name": "python"
  },
  "orig_nbformat": 4
 },
 "nbformat": 4,
 "nbformat_minor": 2
}
